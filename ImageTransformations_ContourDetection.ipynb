{
 "cells": [
  {
   "cell_type": "markdown",
   "metadata": {},
   "source": [
    "# Image Transformations and Contour Detection\n",
    "This notebook performs basic image transformations and contour detection using OpenCV. It is divided into three sections based on the assessment requirements."
   ]
  },
  {
   "cell_type": "markdown",
   "metadata": {},
   "source": [
    "## Section 1: Read and Transform Image\n",
    "- Load an image from user input\n",
    "- Apply transformations:\n",
    "  - Rotate 90 degrees clockwise\n",
    "  - Flip vertically\n",
    "  - Gaussian Blur\n",
    "  - Canny Edge Detection\n",
    "- Toggle between original and transformed images using keys"
   ]
  },
  {
   "cell_type": "code",
   "execution_count": 1,
   "metadata": {},
   "outputs": [
    {
     "name": "stdin",
     "output_type": "stream",
     "text": [
      "Enter the path to the image file:  C:\\Users\\richi\\Desktop\\Capella\\CSC-FPX4040\\Assessment 3\\simple-features_base_1.jpg\n"
     ]
    },
    {
     "name": "stdout",
     "output_type": "stream",
     "text": [
      "Press 'r'=Rotate, 'f'=Flip, 'b'=Blur, 'e'=Edge, 'o'=Original, 's'=Save, 'q'=Quit\n"
     ]
    }
   ],
   "source": [
    "import cv2\n",
    "import os\n",
    "\n",
    "# Prompt for input\n",
    "img_path = input(\"Enter the path to the image file: \").strip()\n",
    "img = cv2.imread(img_path)\n",
    "base = img.copy()\n",
    "blur = cv2.GaussianBlur(base, (9, 9), 0)\n",
    "canny = cv2.Canny(base, 100, 200)\n",
    "rotated = cv2.rotate(base, cv2.ROTATE_90_CLOCKWISE)\n",
    "flipped = cv2.flip(base, 0)\n",
    "\n",
    "print(\"Press 'r'=Rotate, 'f'=Flip, 'b'=Blur, 'e'=Edge, 'o'=Original, 's'=Save, 'q'=Quit\")\n",
    "view = base.copy()\n",
    "\n",
    "while True:\n",
    "    cv2.imshow(\"Image Viewer\", view)\n",
    "    key = cv2.waitKey(0) & 0xFF\n",
    "    if key == ord('r'):\n",
    "        view = rotated\n",
    "    elif key == ord('f'):\n",
    "        view = flipped\n",
    "    elif key == ord('b'):\n",
    "        print(\"Gaussian Blur kernel: 9x9\")\n",
    "        view = blur\n",
    "    elif key == ord('e'):\n",
    "        view = canny\n",
    "    elif key == ord('o'):\n",
    "        view = base\n",
    "    elif key == ord('s'):\n",
    "        filename = os.path.splitext(os.path.basename(img_path))[0]\n",
    "        cv2.imwrite(f\"{filename}_saved.png\", view)\n",
    "        print(\"Image saved.\")\n",
    "    else:\n",
    "        break\n",
    "cv2.destroyAllWindows()"
   ]
  },
  {
   "cell_type": "markdown",
   "metadata": {},
   "source": [
    "## Section 2: Save Active View\n",
    "- Press 's' to save the current view with a filename indicating the transformation."
   ]
  },
  {
   "cell_type": "markdown",
   "metadata": {},
   "source": [
    "## Section 3: Contour Detection with Bounding Shape\n",
    "- Use 'c' to toggle contour detection\n",
    "- Detect contours and draw one of:\n",
    "  - Bounding Rectangle\n",
    "  - Rotated Rectangle\n",
    "  - Enclosing Circle\n",
    "- Save with format: `<image>-contour-<type>.png`"
   ]
  },
  {
   "cell_type": "code",
   "execution_count": 2,
   "metadata": {},
   "outputs": [],
   "source": [
    "# Convert to grayscale and find contours\n",
    "gray = cv2.cvtColor(base, cv2.COLOR_BGR2GRAY)\n",
    "ret, thresh = cv2.threshold(gray, 127, 255, 0)\n",
    "contours, _ = cv2.findContours(thresh, cv2.RETR_EXTERNAL, cv2.CHAIN_APPROX_SIMPLE)\n",
    "\n",
    "# Choose bounding method: rectangle, rotated rect, or circle\n",
    "contour_img = base.copy()\n",
    "\n",
    "# Example: Bounding rectangle\n",
    "for cnt in contours:\n",
    "    x, y, w, h = cv2.boundingRect(cnt)\n",
    "    cv2.rectangle(contour_img, (x, y), (x + w, y + h), (0, 255, 0), 2)\n",
    "\n",
    "# Show and save\n",
    "cv2.imshow(\"Contour Bounding Rectangle\", contour_img)\n",
    "cv2.imwrite(\"contour-bounding-rectangle.png\", contour_img)\n",
    "cv2.waitKey(0)\n",
    "cv2.destroyAllWindows()"
   ]
  },
  {
   "cell_type": "code",
   "execution_count": null,
   "metadata": {},
   "outputs": [],
   "source": []
  }
 ],
 "metadata": {
  "kernelspec": {
   "display_name": "Python [conda env:.conda-main] *",
   "language": "python",
   "name": "conda-env-.conda-main-py"
  },
  "language_info": {
   "codemirror_mode": {
    "name": "ipython",
    "version": 3
   },
   "file_extension": ".py",
   "mimetype": "text/x-python",
   "name": "python",
   "nbconvert_exporter": "python",
   "pygments_lexer": "ipython3",
   "version": "3.7.11"
  }
 },
 "nbformat": 4,
 "nbformat_minor": 4
}
